{
  "cells": [
    {
      "cell_type": "markdown",
      "metadata": {
        "id": "view-in-github",
        "colab_type": "text"
      },
      "source": [
        "<a href=\"https://colab.research.google.com/github/ryou-oon/so-vits-svc-modelmerge/blob/colabnotebook_add/merge_vits_models.ipynb\" target=\"_parent\"><img src=\"https://colab.research.google.com/assets/colab-badge.svg\" alt=\"Open In Colab\"/></a>"
      ]
    },
    {
      "cell_type": "code",
      "execution_count": null,
      "metadata": {
        "id": "4qaKyV0FL33X"
      },
      "outputs": [],
      "source": [
        "#@title Mount google drive\n",
        "\n",
        "#@markdown # googleドライブをマウントする\n",
        "\n",
        "#@markdown\n",
        "\n",
        "google_drive_mount_path = \"/content/drive\"  #@param {type:\"string\"}\n",
        "from google.colab import drive\n",
        "drive.mount(google_drive_mount_path) "
      ]
    },
    {
      "cell_type": "code",
      "execution_count": null,
      "metadata": {
        "id": "xdhWqDgNueQV"
      },
      "outputs": [],
      "source": [
        "#@title program download\n",
        "\n",
        "#@markdown # ツール本体のダウンロード\n",
        "!git clone --depth 1 https://github.com/ryou-oon/so-vits-svc-modelmerge\n",
        "%cd so-vits-svc-modelmerge"
      ]
    },
    {
      "cell_type": "code",
      "execution_count": null,
      "metadata": {
        "id": "6tUdzy_cL46H"
      },
      "outputs": [],
      "source": [
        "#@title run program \n",
        "\n",
        "#@markdown # プログラムの実行\n",
        "model_a_path = \"path/to/model_a.pth\"#@param {type:\"string\"}\n",
        "model_b_path = \"path/to/model_b.pth\"#@param {type:\"string\"}\n",
        "output_path =  \"path/to/output.pth\"#@param {type:\"string\"}\n",
        "model_a_ratio = \"0.5\"#@param {type:\"string\"}\n",
        "model_a_ratio = float(model_a_ratio)\n",
        "\n",
        "!python merge_vits_models.py --model_path_a {model_a_path} --model_path_b {model_b_path} --output_path {output_path} --alpha {model_a_ratio}"
      ]
    }
  ],
  "metadata": {
    "colab": {
      "provenance": [],
      "include_colab_link": true
    },
    "kernelspec": {
      "display_name": "Python 3",
      "name": "python3"
    },
    "language_info": {
      "name": "python"
    }
  },
  "nbformat": 4,
  "nbformat_minor": 0
}
